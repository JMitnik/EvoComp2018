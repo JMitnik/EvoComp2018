{
 "cells": [
  {
   "cell_type": "code",
   "execution_count": 12,
   "metadata": {
    "ExecuteTime": {
     "end_time": "2018-10-19T18:57:30.791951Z",
     "start_time": "2018-10-19T18:57:30.759406Z"
    },
    "collapsed": true
   },
   "outputs": [],
   "source": [
    "# Let's do our usual data science imports\n",
    "import pandas as pd\n",
    "import numpy as np\n",
    "import matplotlib as plot\n",
    "import sklearn as sk\n",
    "import importlib\n",
    "import os\n",
    "import subprocess\n",
    "\n",
    "\n",
    "# Define a number of constants\n",
    "STANDARD_MUTATION = 0.5\n",
    "STANDARD_MOMENTUM = 0\n",
    "STANDARD_POPSIZE = 100\n",
    "STANDARD_SIGMA = 0.004\n",
    "PATH_TO_LOG = \"storage/logs/\"\n",
    "    \n",
    "EVALUATION_SCHAFFERS = \"SchaffersEvaluation\"\n",
    "EVALUATION_KATSUURA = \"KatsuuraEvaluation\"\n",
    "EVALUATION_BCF = \"BentCigarFunction\"\n",
    "EVALUATION_SPHERE = \"SphereEvaluation\"\n",
    "\n",
    "PARAMETER_POPSIZE = \"popsize\"\n",
    "PARAMETER_MOMENTUM = \"Momentum\"\n",
    "PARAMETER_MUTATION = \"Mutation\"\n",
    "PARAMETER_SIGMA = \"Sigma\""
   ]
  },
  {
   "cell_type": "code",
   "execution_count": 5,
   "metadata": {
    "ExecuteTime": {
     "end_time": "2018-10-19T18:56:30.990271Z",
     "start_time": "2018-10-19T18:56:30.979334Z"
    },
    "collapsed": true
   },
   "outputs": [],
   "source": [
    "# Define the Setup class\n",
    "class Setup:\n",
    "    \"\"\"A setup for a defined parameter and evaluation, with given parameter values.\n",
    "\n",
    "    Params:\n",
    "        - param_name (str): Parameter to define\n",
    "        - evaluation (str): Name of evaluation function to optimise.\n",
    "        - parameter_values (list): List of values for the associated parameter\n",
    "    \"\"\"\n",
    "    def __init__(self, param_name = \"\", evaluation = \"\", parameter_values = []):\n",
    "        self.param_name = param_name\n",
    "        self.evaluation = evaluation\n",
    "        self.parameter_values = parameter_values\n",
    "        self.parameter_scores = []"
   ]
  },
  {
   "cell_type": "code",
   "execution_count": 27,
   "metadata": {
    "ExecuteTime": {
     "end_time": "2018-10-19T19:00:01.942278Z",
     "start_time": "2018-10-19T19:00:01.620312Z"
    },
    "collapsed": true
   },
   "outputs": [],
   "source": [
    "# Define the Simulator class\n",
    "class Simulator:\n",
    "    \"\"\"A simulator for a givenn number of setups, and runs to test on each parameter value of a setup.\n",
    "\n",
    "    Params:\n",
    "        - setups(list): A list of Setup to test on\n",
    "        - runs(int): Number of runs per setup\n",
    "    \"\"\"\n",
    "    \n",
    "    def __init__(self, setups, runs=10):\n",
    "        self.setups = setups\n",
    "        self.runs = runs\n",
    "\n",
    "    def run(self):\n",
    "        for setup in self.setups:\n",
    "            self.runEvalsForSetup(setup)\n",
    "\n",
    "    def constructParams(self, setup, param):\n",
    "        \"\"\"Sets up default and preconfigured parameters.\"\"\"\n",
    "        mutation = STANDARD_MUTATION\n",
    "        momentum = STANDARD_MOMENTUM\n",
    "        sigma = STANDARD_SIGMA\n",
    "        popsize = STANDARD_POPSIZE\n",
    "\n",
    "        if setup.param_name == PARAMETER_MUTATION:\n",
    "            mutation = param\n",
    "\n",
    "        if setup.param_name == PARAMETER_MOMENTUM:\n",
    "            momentum = param\n",
    "\n",
    "        if setup.param_name == PARAMETER_SIGMA:\n",
    "            sigma = param\n",
    "        \n",
    "        if setup.param_name == PARAMETER_POPSIZE:\n",
    "            popsize = param\n",
    "\n",
    "        return {\n",
    "            'mutation': mutation,\n",
    "            'momentum': momentum,\n",
    "            'sigma': sigma,\n",
    "            'popsize': popsize\n",
    "        }\n",
    "\n",
    "    def runEvalsForSetup(self, setup):\n",
    "        \"\"\"Runs for the current Setup:setup of parameters to test. \"\"\"\n",
    "        for param in setup.parameter_values:\n",
    "            params = self.constructParams(setup, param)\n",
    "            self.runEval(setup, params, param)\n",
    "\n",
    "    def runEval(self, setup, params, param):\n",
    "        \"\"\"Runs the EA on the igiven eval\"\"\"\n",
    "        scores = 0\n",
    "        print(scores)\n",
    "        \n",
    "        for i in range(self.runs):\n",
    "            cmd = \"bash run.sh %s %d %f\" % (setup.evaluation, params['popsize'], params['sigma'])\n",
    "            p = subprocess.Popen(cmd, shell=True, stdout=subprocess.PIPE, stderr=subprocess.STDOUT)\n",
    "            output = p.stdout.readlines()\n",
    "            self.storeDataToFiles(output, setup, params, param, i)\n",
    "            \n",
    "    def storeDataToFiles(self, output, setup, params, param, run_nr):\n",
    "        path = PATH_TO_LOG + f\"{setup.evaluation}/{setup.param_name}/{setup.param_name}-val-{param}-run-{run_nr}.txt\"\n",
    "        \n",
    "        if not os.path.exists(os.path.dirname(path)):\n",
    "            try:\n",
    "                os.makedirs(os.path.dirname(path))\n",
    "            except OSError as exc: # Guard against race condition\n",
    "                if exc.errno != errno.EEXIST:\n",
    "                    raise\n",
    "\n",
    "        file = open(path, \"w+\")\n",
    "        file.write(str(output))\n",
    "        file.close()"
   ]
  },
  {
   "cell_type": "code",
   "execution_count": 28,
   "metadata": {
    "ExecuteTime": {
     "end_time": "2018-10-19T19:00:04.615929Z",
     "start_time": "2018-10-19T19:00:04.604335Z"
    }
   },
   "outputs": [],
   "source": [
    "# Initialize a number of setups\n",
    "katsuura_popsize_setup = Setup(\n",
    "    PARAMETER_POPSIZE, \n",
    "    EVALUATION_KATSUURA,\n",
    "    np.linspace(50, 500, 50)\n",
    ")\n",
    "\n",
    "schaffers_popsize_setup = Setup(\n",
    "    PARAMETER_POPSIZE, \n",
    "    EVALUATION_SCHAFFERS,\n",
    "    [50, 100]\n",
    "#     np.linspace(50, 500, 50)\n",
    ")\n",
    "\n",
    "setups = [schaffers_popsize_setup]\n",
    "mainSimulator = Simulator(setups)"
   ]
  },
  {
   "cell_type": "code",
   "execution_count": 29,
   "metadata": {
    "ExecuteTime": {
     "end_time": "2018-10-19T19:01:01.920411Z",
     "start_time": "2018-10-19T19:00:06.153372Z"
    }
   },
   "outputs": [
    {
     "name": "stdout",
     "output_type": "stream",
     "text": [
      "0\n",
      "0\n"
     ]
    }
   ],
   "source": [
    "mainSimulator.run()"
   ]
  }
 ],
 "metadata": {
  "kernelspec": {
   "display_name": "Python 3",
   "language": "python",
   "name": "python3"
  },
  "language_info": {
   "codemirror_mode": {
    "name": "ipython",
    "version": 3
   },
   "file_extension": ".py",
   "mimetype": "text/x-python",
   "name": "python",
   "nbconvert_exporter": "python",
   "pygments_lexer": "ipython3",
   "version": "3.6.3"
  },
  "varInspector": {
   "cols": {
    "lenName": 16,
    "lenType": 16,
    "lenVar": 40
   },
   "kernels_config": {
    "python": {
     "delete_cmd_postfix": "",
     "delete_cmd_prefix": "del ",
     "library": "var_list.py",
     "varRefreshCmd": "print(var_dic_list())"
    },
    "r": {
     "delete_cmd_postfix": ") ",
     "delete_cmd_prefix": "rm(",
     "library": "var_list.r",
     "varRefreshCmd": "cat(var_dic_list()) "
    }
   },
   "types_to_exclude": [
    "module",
    "function",
    "builtin_function_or_method",
    "instance",
    "_Feature"
   ],
   "window_display": false
  }
 },
 "nbformat": 4,
 "nbformat_minor": 2
}
