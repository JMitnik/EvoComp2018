{
 "cells": [
  {
   "cell_type": "code",
   "execution_count": 1,
   "metadata": {
    "ExecuteTime": {
     "end_time": "2018-10-20T15:08:31.373869Z",
     "start_time": "2018-10-20T15:08:31.338853Z"
    },
    "collapsed": true
   },
   "outputs": [],
   "source": [
    "# Let's do our usual data science imports\n",
    "import pandas as pd\n",
    "import numpy as np\n",
    "import matplotlib.pyplot as plt\n",
    "import seaborn as sns\n",
    "import sklearn as sk\n",
    "import importlib\n",
    "import os\n",
    "import subprocess\n",
    "sns.set(style=\"darkgrid\")\n",
    "\n",
    "# Define a number of constants\n",
    "STANDARD_MUTATION = 0.25\n",
    "STANDARD_MOMENTUM = 1\n",
    "STANDARD_POPSIZE = 100\n",
    "STANDARD_SIGMA = 1\n",
    "PATH_TO_LOG = \"storage/logs/\"\n",
    "PATH_TO_PLOTS = \"storage/plots/\"\n",
    "    \n",
    "EVALUATION_SCHAFFERS = \"SchaffersEvaluation\"\n",
    "EVALUATION_KATSUURA = \"KatsuuraEvaluation\"\n",
    "EVALUATION_BCF = \"BentCigarFunction\"\n",
    "EVALUATION_SPHERE = \"SphereEvaluation\"\n",
    "\n",
    "PARAMETER_POPSIZE = \"popsize\"\n",
    "PARAMETER_MOMENTUM = \"Momentum\"\n",
    "PARAMETER_MUTATION = \"Mutation\"\n",
    "PARAMETER_SIGMA = \"Sigma\""
   ]
  },
  {
   "cell_type": "code",
   "execution_count": 2,
   "metadata": {
    "ExecuteTime": {
     "end_time": "2018-10-20T11:01:57.977462Z",
     "start_time": "2018-10-20T11:01:57.961411Z"
    },
    "collapsed": true
   },
   "outputs": [],
   "source": [
    "# Define the Setup class\n",
    "class Setup:\n",
    "    \"\"\"A setup for a defined parameter and evaluation, with given parameter values.\n",
    "\n",
    "    Params:\n",
    "        - param_name (str): Parameter to define\n",
    "        - evaluation (str): Name of evaluation function to optimise.\n",
    "        - parameter_values (list): List of values for the associated parameter\n",
    "    \"\"\"\n",
    "    def __init__(self, param_name = \"\", evaluation = \"\", parameter_values = []):\n",
    "        self.param_name = param_name\n",
    "        self.evaluation = evaluation\n",
    "        self.parameter_values = parameter_values\n",
    "        self.parameter_scores = []"
   ]
  },
  {
   "cell_type": "code",
   "execution_count": 3,
   "metadata": {
    "ExecuteTime": {
     "end_time": "2018-10-20T15:12:03.366965Z",
     "start_time": "2018-10-20T15:12:02.737787Z"
    }
   },
   "outputs": [],
   "source": [
    "# Define the Simulator class\n",
    "class Simulator:\n",
    "    \"\"\"A simulator for a givenn number of setups, and runs to test on each parameter value of a setup.\n",
    "\n",
    "    Params:\n",
    "        - setups(list): A list of Setup to test on\n",
    "        - runs(int): Number of runs per setup\n",
    "    \"\"\"\n",
    "    \n",
    "    def __init__(self, setups, runs=10):\n",
    "        self.setups = setups\n",
    "        self.runs = runs\n",
    "\n",
    "    def run(self):\n",
    "        for setup in self.setups:\n",
    "            self.runEvalsForSetup(setup)\n",
    "\n",
    "    def constructParams(self, setup, param):\n",
    "        \"\"\"Sets up default and preconfigured parameters.\"\"\"\n",
    "        mutation = STANDARD_MUTATION\n",
    "        momentum = STANDARD_MOMENTUM\n",
    "        sigma = STANDARD_SIGMA\n",
    "        popsize = STANDARD_POPSIZE\n",
    "\n",
    "        if setup.param_name == PARAMETER_MUTATION:\n",
    "            mutation = param\n",
    "\n",
    "        if setup.param_name == PARAMETER_MOMENTUM:\n",
    "            momentum = param\n",
    "\n",
    "        if setup.param_name == PARAMETER_SIGMA:\n",
    "            sigma = param\n",
    "        \n",
    "        if setup.param_name == PARAMETER_POPSIZE:\n",
    "            popsize = param\n",
    "\n",
    "        return {\n",
    "            'mutation': mutation,\n",
    "            'momentum': momentum,\n",
    "            'sigma': sigma,\n",
    "            'popsize': popsize\n",
    "        }\n",
    "\n",
    "    def runEvalsForSetup(self, setup):\n",
    "        \"\"\"Runs for the current Setup:setup of parameters to test. \"\"\"\n",
    "        for param in setup.parameter_values:\n",
    "            params = self.constructParams(setup, param)\n",
    "            self.runEval(setup, params, param)\n",
    "\n",
    "    def runEval(self, setup, params, param):\n",
    "        \"\"\"Runs the EA on the igiven eval\"\"\"\n",
    "        scores = 0\n",
    "        print(scores)\n",
    "        \n",
    "        for i in range(self.runs):\n",
    "            subprocess.run(\"bash run.sh clean\", shell=True)\n",
    "            subprocess.run(\"bash run.sh compile\", shell=True)\n",
    "            cmd = \"bash run.sh %s %d %f %d\" % (setup.evaluation, params['popsize'], params['sigma'], params['momentum'])\n",
    "            p = subprocess.Popen(cmd, shell=True, stdout=subprocess.PIPE, stderr=subprocess.STDOUT)\n",
    "            output = p.stdout.readlines()[0]\n",
    "            self.storeDataToFiles(output, setup, params, param, i)\n",
    "            \n",
    "    def storeDataToFiles(self, output, setup, params, param, run_nr):\n",
    "        \"\"\"Stores output to corresponding setup location.\"\"\"\n",
    "        path = PATH_TO_LOG + \"{}/{}/{}-val-{}-run-{}.txt\"\\\n",
    "                                .format(setup.evaluation, setup.param_name,setup.param_name,param,run_nr)\n",
    "        \n",
    "        if not os.path.exists(os.path.dirname(path)):\n",
    "            try:\n",
    "                os.makedirs(os.path.dirname(path))\n",
    "            except OSError as exc: # Guard against race condition\n",
    "                if exc.errno != errno.EEXIST:\n",
    "                    raise\n",
    "\n",
    "        file = open(path, \"w+\")\n",
    "        file.write(str(output.decode()))\n",
    "        file.close()\n",
    "    \n",
    "    def readDataForSetup(self, setup):\n",
    "        \"\"\"Reads prior-run setup from filesystem.\"\"\"\n",
    "        end_df = pd.DataFrame()\n",
    "\n",
    "        for index, val_metric in enumerate(setup.parameter_values):\n",
    "            df = pd.DataFrame()\n",
    "            \n",
    "#             for i in range(self.runs):\n",
    "            path = PATH_TO_LOG + \"{}/{}/{}-val-{}-run-1.txt\"\\\n",
    "                                .format(setup.evaluation, setup.param_name,setup.param_name,val_metric)\n",
    "\n",
    "            with open(path) as file:\n",
    "                output = file.readlines()\n",
    "\n",
    "            output_reals = eval(output[0])\n",
    "            df[index] = output_reals\n",
    "\n",
    "            end_df[index] = df.mean(axis='columns')\n",
    "            \n",
    "        return end_df\n",
    "    \n",
    "    def generatePlotForSetup(self, setup, start_index=0, threshold=10.0):\n",
    "        path = PATH_TO_PLOTS + \"{}/{}.png\".format(setup.evaluation,setup.param_name)\n",
    "        \"\"\"Generates a plot, assuming your setup has been run and stored in storage.\"\"\"\n",
    "        output_data = self.readDataForSetup(setup)\n",
    "        sns.relplot(hue=\"region\", kind=\"line\", data=output_data[output_data < threshold].iloc[start_index:])\n",
    "        plt.savefig(path)\n",
    "        "
   ]
  },
  {
   "cell_type": "code",
   "execution_count": 4,
   "metadata": {
    "ExecuteTime": {
     "end_time": "2018-10-20T15:12:17.786332Z",
     "start_time": "2018-10-20T15:12:17.765212Z"
    },
    "collapsed": true
   },
   "outputs": [],
   "source": [
    "# Initialize a number of setups\n",
    "katsuura_popsize_setup = Setup(\n",
    "    PARAMETER_POPSIZE, \n",
    "    EVALUATION_KATSUURA,\n",
    "    np.linspace(50, 500, 50)\n",
    ")\n",
    "\n",
    "schaffers_popsize_setup = Setup(\n",
    "    PARAMETER_POPSIZE, \n",
    "    EVALUATION_SCHAFFERS,\n",
    "    [50, 100]\n",
    ")\n",
    "\n",
    "schaffers_momentum_setup = Setup(\n",
    "    PARAMETER_MOMENTUM,\n",
    "    EVALUATION_SCHAFFERS,\n",
    "    np.arange(0, 0.6, 0.1)\n",
    ")\n",
    "\n",
    "bcf_popsize_setup = Setup(\n",
    "    PARAMETER_POPSIZE,\n",
    "    EVALUATION_BCF,\n",
    "    [50, 100]\n",
    ")\n",
    "\n",
    "bcf_momentum_setup = Setup(\n",
    "    PARAMETER_MOMENTUM,\n",
    "    EVALUATION_BCF,\n",
    "    np.arange(0, 0.6, 0.1)\n",
    ")\n",
    "\n",
    "\n",
    "setups = [bcf_momentum_setup]\n",
    "mainSimulator = Simulator(setups)"
   ]
  },
  {
   "cell_type": "code",
   "execution_count": null,
   "metadata": {
    "ExecuteTime": {
     "end_time": "2018-10-20T11:50:32.590300Z",
     "start_time": "2018-10-20T11:43:07.565946Z"
    }
   },
   "outputs": [
    {
     "name": "stdout",
     "output_type": "stream",
     "text": [
      "0\n",
      "0\n",
      "0\n"
     ]
    }
   ],
   "source": [
    "mainSimulator.run()"
   ]
  },
  {
   "cell_type": "code",
   "execution_count": null,
   "metadata": {
    "ExecuteTime": {
     "end_time": "2018-10-20T11:02:13.979183Z",
     "start_time": "2018-10-20T11:02:04.645832Z"
    },
    "collapsed": true
   },
   "outputs": [],
   "source": []
  },
  {
   "cell_type": "code",
   "execution_count": null,
   "metadata": {
    "ExecuteTime": {
     "end_time": "2018-10-20T12:25:09.219422Z",
     "start_time": "2018-10-20T12:25:06.873178Z"
    }
   },
   "outputs": [],
   "source": [
    "schaffers_popsize_results = mainSimulator.readDataForSetup(setups[0])"
   ]
  },
  {
   "cell_type": "code",
   "execution_count": null,
   "metadata": {
    "ExecuteTime": {
     "start_time": "2018-10-20T15:12:28.881Z"
    }
   },
   "outputs": [],
   "source": [
    "mainSimulator.generatePlotForSetup(setups[0])"
   ]
  },
  {
   "cell_type": "code",
   "execution_count": null,
   "metadata": {
    "ExecuteTime": {
     "end_time": "2018-10-20T11:56:29.200148Z",
     "start_time": "2018-10-20T11:56:27.950795Z"
    }
   },
   "outputs": [],
   "source": [
    "plt.show()"
   ]
  },
  {
   "cell_type": "code",
   "execution_count": null,
   "metadata": {
    "ExecuteTime": {
     "end_time": "2018-10-20T12:29:45.602850Z",
     "start_time": "2018-10-20T12:29:31.769601Z"
    }
   },
   "outputs": [],
   "source": [
    "# first_entry = schaffers_popsize_results[0].iloc[9000:15000]\n",
    "# second_entry = schaffers_popsize_results[1].iloc[9000:15000]\n",
    "# third_entry = schaffers_popsize_results[2].iloc[9000:15000]\n",
    "# fourth_entry = schaffers_popsize_results[3].iloc[9000:15000]\n",
    "# fifth_entry = schaffers_popsize_results[4].iloc[9000:15000]\n",
    "# first_entry[first_entry < 9.999].plot()\n",
    "# second_entry[second_entry < 9.999].plot()\n",
    "# third_entry[third_entry < 9.999].plot()\n",
    "# fourth_entry[fourth_entry < 9.999].plot()\n",
    "# fifth_entry[fifth_entry < 9.999].plot()\n",
    "# plt.show()\n",
    "\n",
    "# sns.relplot(hue=\"coherence\", style=\"choice\",\n",
    "#             kind=\"line\", data=schaffers_popsize_results[schaffers_popsize_results < 9.999]);"
   ]
  },
  {
   "cell_type": "code",
   "execution_count": null,
   "metadata": {
    "ExecuteTime": {
     "end_time": "2018-10-20T14:42:45.810750Z",
     "start_time": "2018-10-20T14:42:45.049002Z"
    }
   },
   "outputs": [],
   "source": [
    "# from mpl_toolkits.mplot3d import Axes3D\n",
    "# fig = plt.figure()\n",
    "# ax = fig.add_subplot(111, projection='3d')\n",
    "# plt.show()"
   ]
  }
 ],
 "metadata": {
  "kernelspec": {
   "display_name": "Python [default]",
   "language": "python",
   "name": "python3"
  },
  "language_info": {
   "codemirror_mode": {
    "name": "ipython",
    "version": 3
   },
   "file_extension": ".py",
   "mimetype": "text/x-python",
   "name": "python",
   "nbconvert_exporter": "python",
   "pygments_lexer": "ipython3",
   "version": "3.5.6"
  },
  "varInspector": {
   "cols": {
    "lenName": 16,
    "lenType": 16,
    "lenVar": 40
   },
   "kernels_config": {
    "python": {
     "delete_cmd_postfix": "",
     "delete_cmd_prefix": "del ",
     "library": "var_list.py",
     "varRefreshCmd": "print(var_dic_list())"
    },
    "r": {
     "delete_cmd_postfix": ") ",
     "delete_cmd_prefix": "rm(",
     "library": "var_list.r",
     "varRefreshCmd": "cat(var_dic_list()) "
    }
   },
   "types_to_exclude": [
    "module",
    "function",
    "builtin_function_or_method",
    "instance",
    "_Feature"
   ],
   "window_display": false
  }
 },
 "nbformat": 4,
 "nbformat_minor": 2
}
