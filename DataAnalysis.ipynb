{
 "cells": [
  {
   "cell_type": "code",
   "execution_count": 1,
   "metadata": {
    "ExecuteTime": {
     "end_time": "2018-10-21T10:16:31.022224Z",
     "start_time": "2018-10-21T10:16:29.172097Z"
    }
   },
   "outputs": [],
   "source": [
    "# Let's do our usual data science imports\n",
    "%load_ext autoreload\n",
    "%autoreload 2\n",
    "\n",
    "import pandas as pd\n",
    "import numpy as np\n",
    "import matplotlib.pyplot as plt\n",
    "import seaborn as sns\n",
    "import sklearn as sk\n",
    "import importlib\n",
    "import seaborn as sns\n",
    "import os\n",
    "import subprocess\n",
    "sns.set(style=\"darkgrid\")\n",
    "\n",
    "# Import constants\n",
    "from config import *\n",
    "\n",
    "# Import Models\n",
    "from Evaluation import Evaluation\n",
    "from Simulator import Simulator\n",
    "from Setup import Setup"
   ]
  },
  {
   "cell_type": "code",
   "execution_count": 2,
   "metadata": {
    "ExecuteTime": {
     "end_time": "2018-10-21T10:16:34.338810Z",
     "start_time": "2018-10-21T10:16:34.283068Z"
    },
    "collapsed": true
   },
   "outputs": [],
   "source": [
    "# Helper functions\n",
    "def makeDirStructure(path):\n",
    "    if not os.path.exists(os.path.dirname(path)):\n",
    "        try:\n",
    "            os.makedirs(os.path.dirname(path))\n",
    "        except OSError as exc: # Guard against race condition\n",
    "            if exc.errno != errno.EEXIST:\n",
    "                raise"
   ]
  },
  {
   "cell_type": "markdown",
   "metadata": {},
   "source": [
    "## Setting up our Setups"
   ]
  },
  {
   "cell_type": "code",
   "execution_count": 3,
   "metadata": {
    "ExecuteTime": {
     "end_time": "2018-10-21T10:16:35.797614Z",
     "start_time": "2018-10-21T10:16:35.726765Z"
    },
    "collapsed": true
   },
   "outputs": [],
   "source": [
    "# Constructing the default evaluation objects (no need to touch this!)\n",
    "Katsuura_eval = Evaluation(\n",
    "    EVALUATION_KATSUURA,\n",
    "    {\n",
    "        PARAMETER_POPSIZE: 100,\n",
    "        PARAMETER_MUTATION: 0.5,\n",
    "        PARAMETER_SIGMA: 0.1,\n",
    "        PARAMETER_MOMENTUM: 0\n",
    "    }\n",
    ")\n",
    "\n",
    "Schaffers_eval = Evaluation(\n",
    "    EVALUATION_SCHAFFERS,\n",
    "    {\n",
    "        PARAMETER_POPSIZE: 100,\n",
    "        PARAMETER_MUTATION: 0.6,\n",
    "        PARAMETER_SIGMA: 1,\n",
    "        PARAMETER_MOMENTUM: 0\n",
    "    }\n",
    ")\n",
    "\n",
    "Sphere_eval = Evaluation(\n",
    "    EVALUATION_SPHERE,\n",
    "    {\n",
    "        PARAMETER_POPSIZE: 100,\n",
    "        PARAMETER_MUTATION: 0.25,\n",
    "        PARAMETER_SIGMA: 1,\n",
    "        PARAMETER_MOMENTUM: 0\n",
    "    }\n",
    ")\n",
    "\n",
    "BCF_eval = Evaluation(\n",
    "    EVALUATION_BCF,\n",
    "    {\n",
    "        PARAMETER_POPSIZE: 100,\n",
    "        PARAMETER_MUTATION: 0.25,\n",
    "        PARAMETER_SIGMA: 1,\n",
    "        PARAMETER_MOMENTUM: 0\n",
    "    }\n",
    ")"
   ]
  },
  {
   "cell_type": "code",
   "execution_count": 9,
   "metadata": {
    "ExecuteTime": {
     "end_time": "2018-10-21T10:23:41.579616Z",
     "start_time": "2018-10-21T10:23:41.367674Z"
    }
   },
   "outputs": [],
   "source": [
    "# Initialize a number of setups\n",
    "\n",
    "# Popsize\n",
    "katsuura_popsize_setup = Setup(\n",
    "    Katsuura_eval,\n",
    "    PARAMETER_POPSIZE, \n",
    "    np.linspace(50, 200, 20)\n",
    ")\n",
    "\n",
    "schaffers_popsize_setup = Setup(\n",
    "    Schaffers_eval,\n",
    "    PARAMETER_POPSIZE,\n",
    "    np.linspace(50, 200, 20)\n",
    ")\n",
    "\n",
    "sphere_popsize_setup = Setup(\n",
    "    Sphere_eval,\n",
    "    PARAMETER_POPSIZE,\n",
    "    np.linspace(10, 200, 20)\n",
    ")\n",
    "\n",
    "bcf_popsize_setup = Setup(\n",
    "    BCF_eval,\n",
    "    PARAMETER_POPSIZE,\n",
    "    np.linspace(10, 200, 20)\n",
    ")\n",
    "\n",
    "# Momentum\n",
    "schaffers_momentum_setup = Setup(\n",
    "    Schaffers_eval,\n",
    "    PARAMETER_MOMENTUM,\n",
    "    [0.0, 0.1, 0.2, 0.3, 0.4, 0.5]\n",
    ")\n",
    "\n",
    "sphere_momentum_setup = Setup(\n",
    "    Sphere_eval,\n",
    "    PARAMETER_MOMENTUM,\n",
    "    [0.0, 0.1, 0.2, 0.3, 0.4, 0.5]\n",
    ")\n",
    "\n",
    "katsuura_momentum_setup = Setup(\n",
    "    Katsuura_eval,\n",
    "    PARAMETER_MOMENTUM,\n",
    "    [0.0, 0.1, 0.2, 0.3, 0.4, 0.5]\n",
    ")\n",
    "\n",
    "bcf_momentum_setup = Setup(\n",
    "    BCF_eval,\n",
    "    PARAMETER_MOMENTUM,\n",
    "    [0.0, 0.1, 0.2, 0.3, 0.4, 0.5]\n",
    ")"
   ]
  },
  {
   "cell_type": "markdown",
   "metadata": {},
   "source": [
    "## Simulation Code"
   ]
  },
  {
   "cell_type": "code",
   "execution_count": 11,
   "metadata": {
    "ExecuteTime": {
     "end_time": "2018-10-21T10:23:58.769160Z",
     "start_time": "2018-10-21T10:23:58.702386Z"
    },
    "collapsed": true
   },
   "outputs": [],
   "source": [
    "# Definining the setups\n",
    "momentum_setups = [bcf_momentum_setup, katsuura_momentum_setup, sphere_momentum_setup, schaffers_momentum_setup]\n",
    "popsize_setups = [bcf_popsize_setup, katsuura_popsize_setup, sphere_popsize_setup, bcf_popsize_setup]\n",
    "mainSimulator = Simulator(popsize_setups)"
   ]
  },
  {
   "cell_type": "code",
   "execution_count": null,
   "metadata": {
    "ExecuteTime": {
     "end_time": "2018-10-21T09:42:12.352264Z",
     "start_time": "2018-10-21T09:32:51.838160Z"
    }
   },
   "outputs": [],
   "source": [
    "# Generating plots for the cells\n",
    "for setup in setups:\n",
    "    mainSimulator.generatePlotForSetup(setup)"
   ]
  },
  {
   "cell_type": "markdown",
   "metadata": {},
   "source": [
    "## Generating New Data from EA"
   ]
  },
  {
   "cell_type": "code",
   "execution_count": null,
   "metadata": {
    "ExecuteTime": {
     "start_time": "2018-10-21T10:25:45.786Z"
    }
   },
   "outputs": [
    {
     "name": "stdout",
     "output_type": "stream",
     "text": [
      "0\n",
      "0\n",
      "0\n",
      "0\n",
      "0\n",
      "0\n",
      "0\n",
      "0\n",
      "0\n",
      "0\n",
      "0\n",
      "0\n",
      "0\n",
      "0\n",
      "0\n",
      "0\n",
      "0\n",
      "0\n",
      "0\n",
      "0\n",
      "0\n",
      "0\n",
      "0\n",
      "0\n",
      "0\n",
      "0\n",
      "0\n",
      "0\n",
      "0\n",
      "0\n",
      "0\n",
      "0\n",
      "0\n"
     ]
    }
   ],
   "source": [
    "# Only run this if you want to make new data\n",
    "mainSimulator = Simulator(popsize_setups)\n",
    "mainSimulator.run()"
   ]
  },
  {
   "cell_type": "markdown",
   "metadata": {
    "heading_collapsed": true
   },
   "source": [
    "## Playing around"
   ]
  },
  {
   "cell_type": "code",
   "execution_count": null,
   "metadata": {
    "ExecuteTime": {
     "end_time": "2018-10-20T11:56:29.200148Z",
     "start_time": "2018-10-20T11:56:27.950795Z"
    },
    "collapsed": true,
    "hidden": true
   },
   "outputs": [],
   "source": [
    "plt.show()"
   ]
  },
  {
   "cell_type": "code",
   "execution_count": null,
   "metadata": {
    "ExecuteTime": {
     "end_time": "2018-10-20T12:29:45.602850Z",
     "start_time": "2018-10-20T12:29:31.769601Z"
    },
    "collapsed": true,
    "hidden": true
   },
   "outputs": [],
   "source": [
    "# first_entry = schaffers_popsize_results[0].iloc[9000:15000]\n",
    "# second_entry = schaffers_popsize_results[1].iloc[9000:15000]\n",
    "# third_entry = schaffers_popsize_results[2].iloc[9000:15000]\n",
    "# fourth_entry = schaffers_popsize_results[3].iloc[9000:15000]\n",
    "# fifth_entry = schaffers_popsize_results[4].iloc[9000:15000]\n",
    "# first_entry[first_entry < 9.999].plot()\n",
    "# second_entry[second_entry < 9.999].plot()\n",
    "# third_entry[third_entry < 9.999].plot()\n",
    "# fourth_entry[fourth_entry < 9.999].plot()\n",
    "# fifth_entry[fifth_entry < 9.999].plot()\n",
    "# plt.show()\n",
    "\n",
    "# sns.relplot(hue=\"coherence\", style=\"choice\",\n",
    "#             kind=\"line\", data=schaffers_popsize_results[schaffers_popsize_results < 9.999]);"
   ]
  },
  {
   "cell_type": "code",
   "execution_count": null,
   "metadata": {
    "ExecuteTime": {
     "end_time": "2018-10-20T14:42:45.810750Z",
     "start_time": "2018-10-20T14:42:45.049002Z"
    },
    "collapsed": true,
    "hidden": true
   },
   "outputs": [],
   "source": [
    "# from mpl_toolkits.mplot3d import Axes3D\n",
    "# fig = plt.figure()\n",
    "# ax = fig.add_subplot(111, projection='3d')\n",
    "# plt.show()"
   ]
  }
 ],
 "metadata": {
  "kernelspec": {
   "display_name": "Python 3",
   "language": "python",
   "name": "python3"
  },
  "language_info": {
   "codemirror_mode": {
    "name": "ipython",
    "version": 3
   },
   "file_extension": ".py",
   "mimetype": "text/x-python",
   "name": "python",
   "nbconvert_exporter": "python",
   "pygments_lexer": "ipython3",
   "version": "3.6.3"
  },
  "varInspector": {
   "cols": {
    "lenName": 16,
    "lenType": 16,
    "lenVar": 40
   },
   "kernels_config": {
    "python": {
     "delete_cmd_postfix": "",
     "delete_cmd_prefix": "del ",
     "library": "var_list.py",
     "varRefreshCmd": "print(var_dic_list())"
    },
    "r": {
     "delete_cmd_postfix": ") ",
     "delete_cmd_prefix": "rm(",
     "library": "var_list.r",
     "varRefreshCmd": "cat(var_dic_list()) "
    }
   },
   "types_to_exclude": [
    "module",
    "function",
    "builtin_function_or_method",
    "instance",
    "_Feature"
   ],
   "window_display": false
  }
 },
 "nbformat": 4,
 "nbformat_minor": 2
}
