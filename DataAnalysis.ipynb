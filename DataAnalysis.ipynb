{
 "cells": [
  {
   "cell_type": "code",
   "execution_count": 3,
   "metadata": {
    "ExecuteTime": {
     "end_time": "2018-10-20T23:04:10.822272Z",
     "start_time": "2018-10-20T23:04:10.068429Z"
    }
   },
   "outputs": [],
   "source": [
    "# Let's do our usual data science imports\n",
    "import pandas as pd\n",
    "import numpy as np\n",
    "import matplotlib.pyplot as plt\n",
    "import seaborn as sns\n",
    "import sklearn as sk\n",
    "import importlib\n",
    "import seaborn as sns\n",
    "import os\n",
    "import subprocess\n",
    "sns.set(style=\"darkgrid\")\n",
    "\n",
    "# Define a number of constants\n",
    "PATH_TO_LOG = \"storage/logs/\"\n",
    "PATH_TO_PLOTS = \"storage/plots/\"\n",
    "    \n",
    "EVALUATION_SCHAFFERS = \"SchaffersEvaluation\"\n",
    "EVALUATION_KATSUURA = \"KatsuuraEvaluation\"\n",
    "EVALUATION_BCF = \"BentCigarFunction\"\n",
    "EVALUATION_SPHERE = \"SphereEvaluation\"\n",
    "\n",
    "PARAMETER_POPSIZE = \"popsize\"\n",
    "PARAMETER_MOMENTUM = \"momentum\"\n",
    "PARAMETER_MUTATION = \"mutation\"\n",
    "PARAMETER_SIGMA = \"sigma\""
   ]
  },
  {
   "cell_type": "code",
   "execution_count": 4,
   "metadata": {
    "ExecuteTime": {
     "end_time": "2018-10-20T23:04:12.386131Z",
     "start_time": "2018-10-20T23:04:12.373098Z"
    },
    "collapsed": true
   },
   "outputs": [],
   "source": [
    "# Helper functions\n",
    "def makeDirStructure(path):\n",
    "    if not os.path.exists(os.path.dirname(path)):\n",
    "        try:\n",
    "            os.makedirs(os.path.dirname(path))\n",
    "        except OSError as exc: # Guard against race condition\n",
    "            if exc.errno != errno.EEXIST:\n",
    "                raise"
   ]
  },
  {
   "cell_type": "code",
   "execution_count": 5,
   "metadata": {
    "ExecuteTime": {
     "end_time": "2018-10-20T23:04:13.946650Z",
     "start_time": "2018-10-20T23:04:13.934119Z"
    },
    "collapsed": true
   },
   "outputs": [],
   "source": [
    "# Define the Setup class\n",
    "class Setup:\n",
    "    \"\"\"A setup for a defined parameter and evaluation, with given parameter values.\n",
    "\n",
    "    Params:\n",
    "        - param_name (str): Parameter to define\n",
    "        - evaluation (str): Name of evaluation function to optimise.\n",
    "        - parameter_values (list): List of values for the associated parameter\n",
    "    \"\"\"\n",
    "    def __init__(self, evaluation, param_name = \"\", parameter_values = []):\n",
    "        self.param_name = param_name\n",
    "        self.evaluation = evaluation\n",
    "        self.parameter_values = parameter_values\n",
    "        self.parameter_scores = []"
   ]
  },
  {
   "cell_type": "code",
   "execution_count": 6,
   "metadata": {
    "ExecuteTime": {
     "end_time": "2018-10-20T23:04:15.548612Z",
     "start_time": "2018-10-20T23:04:15.539373Z"
    },
    "collapsed": true
   },
   "outputs": [],
   "source": [
    "# Define an Evaluation class\n",
    "class Evaluation:\n",
    "    def __init__(self, eval_name, parameters):\n",
    "        self.name = eval_name\n",
    "        self.parameters = parameters"
   ]
  },
  {
   "cell_type": "code",
   "execution_count": 36,
   "metadata": {
    "ExecuteTime": {
     "end_time": "2018-10-20T23:08:39.241873Z",
     "start_time": "2018-10-20T23:08:38.672811Z"
    },
    "collapsed": true
   },
   "outputs": [],
   "source": [
    "# Define the Simulator class\n",
    "class Simulator:\n",
    "    \"\"\"A simulator for a givenn number of setups, and runs to test on each parameter value of a setup.\n",
    "\n",
    "    Params:\n",
    "        - setups(list): A list of Setup to test on\n",
    "        - runs(int): Number of runs per setup\n",
    "    \"\"\"\n",
    "    \n",
    "    def __init__(self, setups, runs=10):\n",
    "        self.setups = setups\n",
    "        self.runs = runs\n",
    "\n",
    "    def run(self):\n",
    "        for setup in self.setups:\n",
    "            self.runEvalsForSetup(setup)\n",
    "\n",
    "    def constructParams(self, setup, param):\n",
    "        \"\"\"Sets up default and preconfigured parameters.\"\"\"\n",
    "        setup.evaluation.parameters[setup.param_name] = param\n",
    "\n",
    "    def runEvalsForSetup(self, setup):\n",
    "        \"\"\"Runs for the current Setup:setup of parameters to test. \"\"\"\n",
    "        for param in setup.parameter_values:\n",
    "            self.runEval(setup, param)\n",
    "\n",
    "    def runEval(self, setup, param):\n",
    "        \"\"\"Runs the EA on the igiven eval\"\"\"\n",
    "        scores = 0\n",
    "        print(scores)\n",
    "        \n",
    "        for i in range(self.runs):\n",
    "            subprocess.run(\"bash run.sh clean\", shell=True)\n",
    "            subprocess.run(\"bash run.sh compile\", shell=True)\n",
    "            cmd = \"bash run.sh %s %d %f %d\" % (setup.evaluation.name, setup.evaluation.parameters[PARAMETER_POPSIZE], setup.evaluation.parameters[PARAMETER_SIGMA], setup.evaluation.parameters[PARAMETER_MOMENTUM])\n",
    "            p = subprocess.Popen(cmd, shell=True, stdout=subprocess.PIPE, stderr=subprocess.STDOUT)\n",
    "            output = p.stdout.readlines()[0]\n",
    "            self.storeDataToFiles(output, setup, param, i)\n",
    "            \n",
    "    def storeDataToFiles(self, output, setup, param, run_nr):\n",
    "        \"\"\"Stores output to corresponding setup location.\"\"\"\n",
    "        path = PATH_TO_LOG + \"{}/{}/{}-val-{}-run-{}.txt\".format(setup.evaluation.name, setup.param_name, setup.param_name, param, run_nr)\n",
    "        makeDirStructure(path)\n",
    "        \n",
    "        file = open(path, \"w+\")\n",
    "        file.write(str(output.decode()))\n",
    "        file.close()\n",
    "    \n",
    "    def readDataForSetup(self, setup):\n",
    "        \"\"\"Reads prior-run setup from filesystem.\"\"\"\n",
    "        end_df = pd.DataFrame()\n",
    "\n",
    "        for index, val_metric in enumerate(setup.parameter_values):\n",
    "            df = pd.DataFrame()\n",
    "            \n",
    "            for i in range(self.runs):\n",
    "                path = PATH_TO_LOG + \"{}/{}/{}-val-{}-run-{}.txt\".format(setup.evaluation.name, setup.param_name, setup.param_name, val_metric, i)\n",
    "\n",
    "                with open(path) as file:\n",
    "                    output = file.readlines()\n",
    "\n",
    "            output_reals = eval(output[0])\n",
    "            df[index] = output_reals\n",
    "\n",
    "            end_df[index] = df.mean(axis='columns')\n",
    "            \n",
    "        return end_df\n",
    "    \n",
    "    def generatePlotForSetup(self, setup, start_index=0, threshold=10.0, output_data=pd.DataFrame()):\n",
    "    def generatePlotForSetup(self, setup, start_index=0, threshold=10.0):\n",
    "        path = PATH_TO_PLOTS + \"{}/{}.png\".format(setup.evaluation,setup.param_name)\n",
    "        \"\"\"Generates a plot, assuming your setup has been run and stored in storage.\"\"\"\n",
    "        path = PATH_TO_PLOTS + \"{}/{}-parameters.png\".format(setup.evaluation.name, setup.param_name)\n",
    "        \n",
    "        if output_data.size < 1:\n",
    "            output_data = self.readDataForSetup(setup)\n",
    "        \n",
    "        sns.relplot(hue=\"region\", kind=\"line\", data=output_data[output_data < threshold].iloc[start_index:])\n",
    "        makeDirStructure(path)\n",
    "        plt.savefig(path)\n",
    "        "
   ]
  },
  {
   "cell_type": "code",
   "execution_count": 37,
   "metadata": {
    "ExecuteTime": {
     "end_time": "2018-10-20T23:08:40.740049Z",
     "start_time": "2018-10-20T23:08:40.717309Z"
    },
    "collapsed": true
   },
   "outputs": [],
   "source": [
    "# Constructing the default evaluation objects (no need to touch this!)\n",
    "Katsuura_eval = Evaluation(\n",
    "    EVALUATION_KATSUURA,\n",
    "    {\n",
    "        PARAMETER_POPSIZE: 100,\n",
    "        PARAMETER_MUTATION: 0.5,\n",
    "        PARAMETER_SIGMA: 0.1,\n",
    "        PARAMETER_MOMENTUM: 0\n",
    "    }\n",
    ")\n",
    "\n",
    "Schaffers_eval = Evaluation(\n",
    "    EVALUATION_SCHAFFERS,\n",
    "    {\n",
    "        PARAMETER_POPSIZE: 100,\n",
    "        PARAMETER_MUTATION: 0.6,\n",
    "        PARAMETER_SIGMA: 1,\n",
    "        PARAMETER_MOMENTUM: 0\n",
    "    }\n",
    ")\n",
    "\n",
    "Sphere_eval = Evaluation(\n",
    "    EVALUATION_SPHERE,\n",
    "    {\n",
    "        PARAMETER_POPSIZE: 100,\n",
    "        PARAMETER_MUTATION: 0.25,\n",
    "        PARAMETER_SIGMA: 1,\n",
    "        PARAMETER_MOMENTUM: 0\n",
    "    }\n",
    ")\n",
    "\n",
    "BCF_eval = Evaluation(\n",
    "    EVALUATION_BCF,\n",
    "    {\n",
    "        PARAMETER_POPSIZE: 100,\n",
    "        PARAMETER_MUTATION: 0.25,\n",
    "        PARAMETER_SIGMA: 1,\n",
    "        PARAMETER_MOMENTUM: 0\n",
    "    }\n",
    ")"
   ]
  },
  {
   "cell_type": "code",
   "execution_count": 38,
   "metadata": {
    "ExecuteTime": {
     "end_time": "2018-10-20T23:08:43.629476Z",
     "start_time": "2018-10-20T23:08:43.611698Z"
    },
    "collapsed": true
   },
   "outputs": [],
   "source": [
    "# Initialize a number of setups\n",
    "katsuura_popsize_setup = Setup(\n",
    "    Katsuura_eval,\n",
    "    PARAMETER_POPSIZE, \n",
    "    np.linspace(50, 500, 50)\n",
    ")\n",
    "\n",
    "schaffers_popsize_setup = Setup(\n",
    "    Schaffers_eval,\n",
    "    PARAMETER_POPSIZE,\n",
    "    [50, 100]\n",
    ")\n",
    "\n",
    "schaffers_momentum_setup = Setup(\n",
    "    Schaffers_eval,\n",
    "    PARAMETER_MOMENTUM,\n",
    "    np.arange(0, 0.6, 0.1)\n",
    ")\n",
    "\n",
    "bcf_popsize_setup = Setup(\n",
    "    BCF_eval,\n",
    "    PARAMETER_POPSIZE,\n",
    "    [50, 100]\n",
    ")\n",
    "\n",
    "bcf_momentum_setup = Setup(\n",
    "    BCF_eval,\n",
    "    PARAMETER_MOMENTUM,\n",
    "    np.arange(0, 0.6, 0.1)\n",
    ")"
   ]
  },
  {
   "cell_type": "code",
   "execution_count": 39,
   "metadata": {
    "ExecuteTime": {
     "end_time": "2018-10-20T23:08:45.678850Z",
     "start_time": "2018-10-20T23:08:45.671037Z"
    },
    "collapsed": true
   },
   "outputs": [],
   "source": [
    "# Definining the setups\n",
    "setups = [bcf_momentum_setup]\n",
    "mainSimulator = Simulator(setups)"
   ]
  },
  {
   "cell_type": "code",
   "execution_count": 22,
   "metadata": {
    "ExecuteTime": {
     "end_time": "2018-10-20T23:06:19.414163Z",
     "start_time": "2018-10-20T23:06:16.493452Z"
    }
   },
   "outputs": [],
   "source": [
    "data = mainSimulator.readDataForSetup(setups[0])"
   ]
  },
  {
   "cell_type": "code",
   "execution_count": 40,
   "metadata": {
    "ExecuteTime": {
     "end_time": "2018-10-20T23:08:59.536764Z",
     "start_time": "2018-10-20T23:08:46.918985Z"
    }
   },
   "outputs": [],
   "source": [
    "mainSimulator.generatePlotForSetup(setups[0], output_data=data)"
   ]
  },
  {
   "cell_type": "markdown",
   "metadata": {},
   "source": [
    "## Generating New Data from EA"
   ]
  },
  {
   "cell_type": "markdown",
   "metadata": {},
   "source": [
    "## New heading"
   ]
  },
  {
   "cell_type": "code",
   "execution_count": null,
   "metadata": {
    "ExecuteTime": {
     "start_time": "2018-10-20T16:43:27.839Z"
    }
   },
   "outputs": [
    {
     "name": "stdout",
     "output_type": "stream",
     "text": [
      "0\n",
      "0\n"
     ]
    }
   ],
   "source": [
    "# Only run this if you want to make new data\n",
    "\n",
    "mainSimulator = Simulator(setups)\n",
    "mainSimulator.run()"
   ]
  },
  {
   "cell_type": "markdown",
   "metadata": {
    "heading_collapsed": true
   },
   "source": [
    "## Playing around"
   ]
  },
  {
   "cell_type": "code",
   "execution_count": null,
   "metadata": {
    "ExecuteTime": {
     "end_time": "2018-10-20T11:56:29.200148Z",
     "start_time": "2018-10-20T11:56:27.950795Z"
    },
    "hidden": true
   },
   "outputs": [],
   "source": [
    "plt.show()"
   ]
  },
  {
   "cell_type": "code",
   "execution_count": null,
   "metadata": {
    "ExecuteTime": {
     "end_time": "2018-10-20T12:29:45.602850Z",
     "start_time": "2018-10-20T12:29:31.769601Z"
    },
    "hidden": true
   },
   "outputs": [],
   "source": [
    "# first_entry = schaffers_popsize_results[0].iloc[9000:15000]\n",
    "# second_entry = schaffers_popsize_results[1].iloc[9000:15000]\n",
    "# third_entry = schaffers_popsize_results[2].iloc[9000:15000]\n",
    "# fourth_entry = schaffers_popsize_results[3].iloc[9000:15000]\n",
    "# fifth_entry = schaffers_popsize_results[4].iloc[9000:15000]\n",
    "# first_entry[first_entry < 9.999].plot()\n",
    "# second_entry[second_entry < 9.999].plot()\n",
    "# third_entry[third_entry < 9.999].plot()\n",
    "# fourth_entry[fourth_entry < 9.999].plot()\n",
    "# fifth_entry[fifth_entry < 9.999].plot()\n",
    "# plt.show()\n",
    "\n",
    "# sns.relplot(hue=\"coherence\", style=\"choice\",\n",
    "#             kind=\"line\", data=schaffers_popsize_results[schaffers_popsize_results < 9.999]);"
   ]
  },
  {
   "cell_type": "code",
   "execution_count": null,
   "metadata": {
    "ExecuteTime": {
     "end_time": "2018-10-20T14:42:45.810750Z",
     "start_time": "2018-10-20T14:42:45.049002Z"
    },
    "hidden": true
   },
   "outputs": [],
   "source": [
    "# from mpl_toolkits.mplot3d import Axes3D\n",
    "# fig = plt.figure()\n",
    "# ax = fig.add_subplot(111, projection='3d')\n",
    "# plt.show()"
   ]
  }
 ],
 "metadata": {
  "kernelspec": {
   "display_name": "Python [default]",
   "language": "python",
   "name": "python3"
  },
  "language_info": {
   "codemirror_mode": {
    "name": "ipython",
    "version": 3
   },
   "file_extension": ".py",
   "mimetype": "text/x-python",
   "name": "python",
   "nbconvert_exporter": "python",
   "pygments_lexer": "ipython3",
   "version": "3.5.6"
  },
  "varInspector": {
   "cols": {
    "lenName": 16,
    "lenType": 16,
    "lenVar": 40
   },
   "kernels_config": {
    "python": {
     "delete_cmd_postfix": "",
     "delete_cmd_prefix": "del ",
     "library": "var_list.py",
     "varRefreshCmd": "print(var_dic_list())"
    },
    "r": {
     "delete_cmd_postfix": ") ",
     "delete_cmd_prefix": "rm(",
     "library": "var_list.r",
     "varRefreshCmd": "cat(var_dic_list()) "
    }
   },
   "types_to_exclude": [
    "module",
    "function",
    "builtin_function_or_method",
    "instance",
    "_Feature"
   ],
   "window_display": false
  }
 },
 "nbformat": 4,
 "nbformat_minor": 2
}
