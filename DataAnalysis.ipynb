{
 "cells": [
  {
   "cell_type": "code",
   "execution_count": 4,
   "metadata": {
    "ExecuteTime": {
     "end_time": "2018-10-21T15:08:35.355677Z",
     "start_time": "2018-10-21T15:08:33.195439Z"
    },
    "collapsed": true
   },
   "outputs": [],
   "source": [
    "# Let's do our usual data science imports\n",
    "%load_ext autoreload\n",
    "%autoreload 2\n",
    "\n",
    "import pandas as pd\n",
    "import numpy as np\n",
    "import matplotlib.pyplot as plt\n",
    "import seaborn as sns\n",
    "import sklearn as sk\n",
    "import importlib\n",
    "import seaborn as sns\n",
    "import os\n",
    "import subprocess\n",
    "sns.set(style=\"darkgrid\")\n",
    "\n",
    "# Import constants\n",
    "from config import *\n",
    "\n",
    "# Import Models\n",
    "from Evaluation import Evaluation\n",
    "from Simulator import Simulator\n",
    "from Setup import Setup"
   ]
  },
  {
   "cell_type": "code",
   "execution_count": 5,
   "metadata": {
    "ExecuteTime": {
     "end_time": "2018-10-21T15:08:36.915870Z",
     "start_time": "2018-10-21T15:08:36.857817Z"
    },
    "collapsed": true
   },
   "outputs": [],
   "source": [
    "# Helper functions\n",
    "def makeDirStructure(path):\n",
    "    if not os.path.exists(os.path.dirname(path)):\n",
    "        try:\n",
    "            os.makedirs(os.path.dirname(path))\n",
    "        except OSError as exc: # Guard against race condition\n",
    "            if exc.errno != errno.EEXIST:\n",
    "                raise"
   ]
  },
  {
   "cell_type": "markdown",
   "metadata": {},
   "source": [
    "## Setting up our Setups"
   ]
  },
  {
   "cell_type": "code",
   "execution_count": 6,
   "metadata": {
    "ExecuteTime": {
     "end_time": "2018-10-21T15:08:38.445269Z",
     "start_time": "2018-10-21T15:08:38.380086Z"
    },
    "collapsed": true
   },
   "outputs": [],
   "source": [
    "# Constructing the default evaluation objects (no need to touch this!)\n",
    "Katsuura_eval = Evaluation(\n",
    "    EVALUATION_KATSUURA,\n",
    "    {\n",
    "        PARAMETER_POPSIZE: 100,\n",
    "        PARAMETER_MUTATION: 0.5,\n",
    "        PARAMETER_SIGMA: 0.1,\n",
    "        PARAMETER_MOMENTUM: 0\n",
    "    }\n",
    ")\n",
    "\n",
    "Schaffers_eval = Evaluation(\n",
    "    EVALUATION_SCHAFFERS,\n",
    "    {\n",
    "        PARAMETER_POPSIZE: 100,\n",
    "        PARAMETER_MUTATION: 0.6,\n",
    "        PARAMETER_SIGMA: 1,\n",
    "        PARAMETER_MOMENTUM: 0\n",
    "    }\n",
    ")\n",
    "\n",
    "Sphere_eval = Evaluation(\n",
    "    EVALUATION_SPHERE,\n",
    "    {\n",
    "        PARAMETER_POPSIZE: 100,\n",
    "        PARAMETER_MUTATION: 0.25,\n",
    "        PARAMETER_SIGMA: 1,\n",
    "        PARAMETER_MOMENTUM: 0\n",
    "    }\n",
    ")\n",
    "\n",
    "BCF_eval = Evaluation(\n",
    "    EVALUATION_BCF,\n",
    "    {\n",
    "        PARAMETER_POPSIZE: 100,\n",
    "        PARAMETER_MUTATION: 0.25,\n",
    "        PARAMETER_SIGMA: 1,\n",
    "        PARAMETER_MOMENTUM: 0\n",
    "    }\n",
    ")"
   ]
  },
  {
   "cell_type": "code",
   "execution_count": 10,
   "metadata": {
    "ExecuteTime": {
     "end_time": "2018-10-21T15:09:41.663332Z",
     "start_time": "2018-10-21T15:09:41.578972Z"
    },
    "collapsed": true
   },
   "outputs": [],
   "source": [
    "# Initialize a number of setups\n",
    "\n",
    "# Popsize\n",
    "katsuura_popsize_setup = Setup(\n",
    "    Katsuura_eval,\n",
    "    PARAMETER_POPSIZE, \n",
    "    np.linspace(50, 200, 20)\n",
    ")\n",
    "\n",
    "schaffers_popsize_setup = Setup(\n",
    "    Schaffers_eval,\n",
    "    PARAMETER_POPSIZE,\n",
    "    np.linspace(50, 200, 20)\n",
    ")\n",
    "\n",
    "sphere_popsize_setup = Setup(\n",
    "    Sphere_eval,\n",
    "    PARAMETER_POPSIZE,\n",
    "    np.linspace(10, 200, 20)\n",
    ")\n",
    "\n",
    "bcf_popsize_setup = Setup(\n",
    "    BCF_eval,\n",
    "    PARAMETER_POPSIZE,\n",
    "    np.linspace(10, 200, 20)\n",
    ")\n",
    "\n",
    "# Momentum\n",
    "schaffers_momentum_setup = Setup(\n",
    "    Schaffers_eval,\n",
    "    PARAMETER_MOMENTUM,\n",
    "    [0.0, 0.1, 0.2, 0.3, 0.4, 0.5, 0.6, 0.7, 0.8, 0.9, 0.99]\n",
    ")\n",
    "\n",
    "sphere_momentum_setup = Setup(\n",
    "    Sphere_eval,\n",
    "    PARAMETER_MOMENTUM,\n",
    "    [0.0, 0.1, 0.2, 0.3, 0.4, 0.5, 0.6, 0.7, 0.8, 0.9, 0.99]\n",
    ")\n",
    "\n",
    "katsuura_momentum_setup = Setup(\n",
    "    Katsuura_eval,\n",
    "    PARAMETER_MOMENTUM,\n",
    "    [0.0, 0.1, 0.2, 0.3, 0.4, 0.5, 0.6, 0.7, 0.8, 0.9, 0.99]\n",
    ")\n",
    "\n",
    "bcf_momentum_setup = Setup(\n",
    "    BCF_eval,\n",
    "    PARAMETER_MOMENTUM,\n",
    "    [0.0, 0.1, 0.2, 0.3, 0.4, 0.5, 0.6, 0.7, 0.8, 0.9, 0.99]\n",
    ")"
   ]
  },
  {
   "cell_type": "markdown",
   "metadata": {},
   "source": [
    "## Simulation Code"
   ]
  },
  {
   "cell_type": "code",
   "execution_count": 11,
   "metadata": {
    "ExecuteTime": {
     "end_time": "2018-10-21T15:09:43.620792Z",
     "start_time": "2018-10-21T15:09:43.568323Z"
    },
    "collapsed": true
   },
   "outputs": [],
   "source": [
    "# Definining the setups\n",
    "momentum_setups = [bcf_momentum_setup, katsuura_momentum_setup, sphere_momentum_setup, schaffers_momentum_setup]\n",
    "popsize_setups = [bcf_popsize_setup, katsuura_popsize_setup, sphere_popsize_setup, bcf_popsize_setup]\n",
    "mainSimulator = Simulator(momentum_setups, 3, \"all_momentum_\")"
   ]
  },
  {
   "cell_type": "code",
   "execution_count": 22,
   "metadata": {
    "ExecuteTime": {
     "end_time": "2018-10-21T14:31:06.669899Z",
     "start_time": "2018-10-21T14:30:34.787363Z"
    },
    "collapsed": true
   },
   "outputs": [],
   "source": []
  },
  {
   "cell_type": "code",
   "execution_count": 40,
   "metadata": {
    "ExecuteTime": {
     "end_time": "2018-10-21T19:38:41.164660Z",
     "start_time": "2018-10-21T19:17:10.831516Z"
    }
   },
   "outputs": [],
   "source": [
    "# Generating plots for the cells\n",
    "for setup in momentum_setups:\n",
    "    mainSimulator.generatePlotForSetup(setup, end_index=100000)"
   ]
  },
  {
   "cell_type": "markdown",
   "metadata": {},
   "source": [
    "## Generating New Data from EA"
   ]
  },
  {
   "cell_type": "code",
   "execution_count": 12,
   "metadata": {
    "ExecuteTime": {
     "end_time": "2018-10-21T15:44:43.080522Z",
     "start_time": "2018-10-21T15:09:58.927510Z"
    }
   },
   "outputs": [
    {
     "name": "stdout",
     "output_type": "stream",
     "text": [
      "0\n",
      "0\n",
      "0\n",
      "0\n",
      "0\n",
      "0\n",
      "0\n",
      "0\n",
      "0\n",
      "0\n",
      "0\n",
      "0\n",
      "0\n",
      "0\n",
      "0\n",
      "0\n",
      "0\n",
      "0\n",
      "0\n",
      "0\n",
      "0\n",
      "0\n",
      "0\n",
      "0\n",
      "0\n",
      "0\n",
      "0\n",
      "0\n",
      "0\n",
      "0\n",
      "0\n",
      "0\n",
      "0\n",
      "0\n",
      "0\n",
      "0\n",
      "0\n",
      "0\n",
      "0\n",
      "0\n",
      "0\n",
      "0\n",
      "0\n",
      "0\n"
     ]
    }
   ],
   "source": [
    "# Only run this if you want to make new data\n",
    "mainSimulator.run()"
   ]
  },
  {
   "cell_type": "markdown",
   "metadata": {},
   "source": [
    "## Simulating instances"
   ]
  },
  {
   "cell_type": "code",
   "execution_count": 29,
   "metadata": {
    "ExecuteTime": {
     "end_time": "2018-10-21T17:35:09.430228Z",
     "start_time": "2018-10-21T17:34:32.659059Z"
    },
    "collapsed": true
   },
   "outputs": [],
   "source": [
    "# Reading data (optional)\n",
    "katsuura_data = mainSimulator.readDataForSetup(momentum_setups[1])"
   ]
  },
  {
   "cell_type": "code",
   "execution_count": 39,
   "metadata": {
    "ExecuteTime": {
     "end_time": "2018-10-21T18:41:08.592542Z",
     "start_time": "2018-10-21T18:13:06.760019Z"
    }
   },
   "outputs": [],
   "source": [
    "mainSimulator.generatePlotForSetup(momentum_setups[1], output_data=katsuura_data)"
   ]
  },
  {
   "cell_type": "code",
   "execution_count": 37,
   "metadata": {
    "ExecuteTime": {
     "end_time": "2018-10-21T18:05:36.751819Z",
     "start_time": "2018-10-21T18:05:35.753287Z"
    },
    "collapsed": true
   },
   "outputs": [],
   "source": [
    "bcf_data = mainSimulator.readDataForSetup(momentum_setups[0])"
   ]
  }
 ],
 "metadata": {
  "kernelspec": {
   "display_name": "Python 3",
   "language": "python",
   "name": "python3"
  },
  "language_info": {
   "codemirror_mode": {
    "name": "ipython",
    "version": 3
   },
   "file_extension": ".py",
   "mimetype": "text/x-python",
   "name": "python",
   "nbconvert_exporter": "python",
   "pygments_lexer": "ipython3",
   "version": "3.6.3"
  },
  "varInspector": {
   "cols": {
    "lenName": 16,
    "lenType": 16,
    "lenVar": 40
   },
   "kernels_config": {
    "python": {
     "delete_cmd_postfix": "",
     "delete_cmd_prefix": "del ",
     "library": "var_list.py",
     "varRefreshCmd": "print(var_dic_list())"
    },
    "r": {
     "delete_cmd_postfix": ") ",
     "delete_cmd_prefix": "rm(",
     "library": "var_list.r",
     "varRefreshCmd": "cat(var_dic_list()) "
    }
   },
   "types_to_exclude": [
    "module",
    "function",
    "builtin_function_or_method",
    "instance",
    "_Feature"
   ],
   "window_display": false
  }
 },
 "nbformat": 4,
 "nbformat_minor": 2
}
