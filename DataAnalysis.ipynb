{
 "cells": [
  {
   "cell_type": "code",
   "execution_count": 19,
   "metadata": {
    "ExecuteTime": {
     "end_time": "2018-10-20T11:06:17.335021Z",
     "start_time": "2018-10-20T11:06:17.292484Z"
    },
    "collapsed": true
   },
   "outputs": [],
   "source": [
    "# Let's do our usual data science imports\n",
    "import pandas as pd\n",
    "import numpy as np\n",
    "import matplotlib.pyplot as plt\n",
    "import sklearn as sk\n",
    "import importlib\n",
    "import os\n",
    "import subprocess\n",
    "sns.set(style=\"darkgrid\")\n",
    "\n",
    "# Define a number of constants\n",
    "STANDARD_MUTATION = 0.6\n",
    "STANDARD_MOMENTUM = 1\n",
    "STANDARD_POPSIZE = 100\n",
    "STANDARD_SIGMA = 1\n",
    "PATH_TO_LOG = \"storage/logs/\"\n",
    "    \n",
    "EVALUATION_SCHAFFERS = \"SchaffersEvaluation\"\n",
    "EVALUATION_KATSUURA = \"KatsuuraEvaluation\"\n",
    "EVALUATION_BCF = \"BentCigarFunction\"\n",
    "EVALUATION_SPHERE = \"SphereEvaluation\"\n",
    "\n",
    "PARAMETER_POPSIZE = \"popsize\"\n",
    "PARAMETER_MOMENTUM = \"Momentum\"\n",
    "PARAMETER_MUTATION = \"Mutation\"\n",
    "PARAMETER_SIGMA = \"Sigma\""
   ]
  },
  {
   "cell_type": "code",
   "execution_count": 2,
   "metadata": {
    "ExecuteTime": {
     "end_time": "2018-10-20T11:01:57.977462Z",
     "start_time": "2018-10-20T11:01:57.961411Z"
    },
    "collapsed": true
   },
   "outputs": [],
   "source": [
    "# Define the Setup class\n",
    "class Setup:\n",
    "    \"\"\"A setup for a defined parameter and evaluation, with given parameter values.\n",
    "\n",
    "    Params:\n",
    "        - param_name (str): Parameter to define\n",
    "        - evaluation (str): Name of evaluation function to optimise.\n",
    "        - parameter_values (list): List of values for the associated parameter\n",
    "    \"\"\"\n",
    "    def __init__(self, param_name = \"\", evaluation = \"\", parameter_values = []):\n",
    "        self.param_name = param_name\n",
    "        self.evaluation = evaluation\n",
    "        self.parameter_values = parameter_values\n",
    "        self.parameter_scores = []"
   ]
  },
  {
   "cell_type": "code",
   "execution_count": 36,
   "metadata": {
    "ExecuteTime": {
     "end_time": "2018-10-20T11:43:04.223187Z",
     "start_time": "2018-10-20T11:43:03.683412Z"
    }
   },
   "outputs": [],
   "source": [
    "# Define the Simulator class\n",
    "class Simulator:\n",
    "    \"\"\"A simulator for a givenn number of setups, and runs to test on each parameter value of a setup.\n",
    "\n",
    "    Params:\n",
    "        - setups(list): A list of Setup to test on\n",
    "        - runs(int): Number of runs per setup\n",
    "    \"\"\"\n",
    "    \n",
    "    def __init__(self, setups, runs=10):\n",
    "        self.setups = setups\n",
    "        self.runs = runs\n",
    "\n",
    "    def run(self):\n",
    "        for setup in self.setups:\n",
    "            self.runEvalsForSetup(setup)\n",
    "\n",
    "    def constructParams(self, setup, param):\n",
    "        \"\"\"Sets up default and preconfigured parameters.\"\"\"\n",
    "        mutation = STANDARD_MUTATION\n",
    "        momentum = STANDARD_MOMENTUM\n",
    "        sigma = STANDARD_SIGMA\n",
    "        popsize = STANDARD_POPSIZE\n",
    "\n",
    "        if setup.param_name == PARAMETER_MUTATION:\n",
    "            mutation = param\n",
    "\n",
    "        if setup.param_name == PARAMETER_MOMENTUM:\n",
    "            momentum = param\n",
    "\n",
    "        if setup.param_name == PARAMETER_SIGMA:\n",
    "            sigma = param\n",
    "        \n",
    "        if setup.param_name == PARAMETER_POPSIZE:\n",
    "            popsize = param\n",
    "\n",
    "        return {\n",
    "            'mutation': mutation,\n",
    "            'momentum': momentum,\n",
    "            'sigma': sigma,\n",
    "            'popsize': popsize\n",
    "        }\n",
    "\n",
    "    def runEvalsForSetup(self, setup):\n",
    "        \"\"\"Runs for the current Setup:setup of parameters to test. \"\"\"\n",
    "        for param in setup.parameter_values:\n",
    "            params = self.constructParams(setup, param)\n",
    "            self.runEval(setup, params, param)\n",
    "\n",
    "    def runEval(self, setup, params, param):\n",
    "        \"\"\"Runs the EA on the igiven eval\"\"\"\n",
    "        scores = 0\n",
    "        print(scores)\n",
    "        \n",
    "        for i in range(self.runs):\n",
    "            subprocess.run(\"bash run.sh clean\", shell=True)\n",
    "            subprocess.run(\"bash run.sh compile\", shell=True)\n",
    "            cmd = \"bash run.sh %s %d %f %d\" % (setup.evaluation, params['popsize'], params['sigma'], params['momentum'])\n",
    "            p = subprocess.Popen(cmd, shell=True, stdout=subprocess.PIPE, stderr=subprocess.STDOUT)\n",
    "            output = p.stdout.readlines()[0]\n",
    "            self.storeDataToFiles(output, setup, params, param, i)\n",
    "            \n",
    "    def storeDataToFiles(self, output, setup, params, param, run_nr):\n",
    "        path = PATH_TO_LOG + f\"{setup.evaluation}/{setup.param_name}/{setup.param_name}-val-{param}-run-{run_nr}.txt\"\n",
    "        \n",
    "        if not os.path.exists(os.path.dirname(path)):\n",
    "            try:\n",
    "                os.makedirs(os.path.dirname(path))\n",
    "            except OSError as exc: # Guard against race condition\n",
    "                if exc.errno != errno.EEXIST:\n",
    "                    raise\n",
    "\n",
    "        file = open(path, \"w+\")\n",
    "        file.write(str(output.decode()))\n",
    "        file.close()\n",
    "    \n",
    "    def readDataForSetup(self, setup):\n",
    "        end_df = pd.DataFrame()\n",
    "\n",
    "        for index, val_metric in enumerate(setup.parameter_values):\n",
    "            df = pd.DataFrame()\n",
    "            \n",
    "            for i in range(self.runs):\n",
    "                path = PATH_TO_LOG + f\"{setup.evaluation}/{setup.param_name}/{setup.param_name}-val-{val_metric}-run-{i}.txt\"\n",
    "\n",
    "                with open(path) as file:\n",
    "                    output = file.readlines()\n",
    "\n",
    "                output_reals = eval(output[0])\n",
    "                df[i] = output_reals\n",
    "\n",
    "            end_df[index] = df.mean(axis='columns')\n",
    "            \n",
    "        return end_df\n",
    "        "
   ]
  },
  {
   "cell_type": "code",
   "execution_count": 37,
   "metadata": {
    "ExecuteTime": {
     "end_time": "2018-10-20T11:43:05.928240Z",
     "start_time": "2018-10-20T11:43:05.908251Z"
    }
   },
   "outputs": [],
   "source": [
    "# Initialize a number of setups\n",
    "katsuura_popsize_setup = Setup(\n",
    "    PARAMETER_POPSIZE, \n",
    "    EVALUATION_KATSUURA,\n",
    "    np.linspace(50, 500, 50)\n",
    ")\n",
    "\n",
    "schaffers_popsize_setup = Setup(\n",
    "    PARAMETER_POPSIZE, \n",
    "    EVALUATION_SCHAFFERS,\n",
    "    [50, 100]\n",
    ")\n",
    "\n",
    "schaffers_momentum_setup = Setup(\n",
    "    PARAMETER_MOMENTUM,\n",
    "    EVALUATION_SCHAFFERS,\n",
    "    np.arange(0, 0.6, 0.1)\n",
    ")\n",
    "\n",
    "bcf_popsize_setup = Setup(\n",
    "    PARAMETER_POPSIZE,\n",
    "    EVALUATION_BCF,\n",
    "    [50, 100]\n",
    ")\n",
    "\n",
    "setups = [schaffers_momentum_setup]\n",
    "mainSimulator = Simulator(setups)"
   ]
  },
  {
   "cell_type": "code",
   "execution_count": 38,
   "metadata": {
    "ExecuteTime": {
     "end_time": "2018-10-20T11:50:32.590300Z",
     "start_time": "2018-10-20T11:43:07.565946Z"
    }
   },
   "outputs": [
    {
     "name": "stdout",
     "output_type": "stream",
     "text": [
      "0\n",
      "0\n",
      "0\n",
      "0\n",
      "0\n",
      "0\n"
     ]
    }
   ],
   "source": [
    "mainSimulator.run()"
   ]
  },
  {
   "cell_type": "code",
   "execution_count": 4,
   "metadata": {
    "ExecuteTime": {
     "end_time": "2018-10-20T11:02:13.979183Z",
     "start_time": "2018-10-20T11:02:04.645832Z"
    }
   },
   "outputs": [],
   "source": []
  },
  {
   "cell_type": "code",
   "execution_count": 44,
   "metadata": {
    "ExecuteTime": {
     "end_time": "2018-10-20T11:59:46.460412Z",
     "start_time": "2018-10-20T11:59:26.917150Z"
    }
   },
   "outputs": [
    {
     "ename": "ValueError",
     "evalue": "Must pass DataFrame with boolean values only",
     "output_type": "error",
     "traceback": [
      "\u001b[0;31m---------------------------------------------------------------------------\u001b[0m",
      "\u001b[0;31mValueError\u001b[0m                                Traceback (most recent call last)",
      "\u001b[0;32m<ipython-input-44-afb5812252ea>\u001b[0m in \u001b[0;36m<module>\u001b[0;34m()\u001b[0m\n\u001b[1;32m      1\u001b[0m \u001b[0mschaffers_popsize_results\u001b[0m \u001b[0;34m=\u001b[0m \u001b[0mmainSimulator\u001b[0m\u001b[0;34m.\u001b[0m\u001b[0mreadDataForSetup\u001b[0m\u001b[0;34m(\u001b[0m\u001b[0msetups\u001b[0m\u001b[0;34m[\u001b[0m\u001b[0;36m0\u001b[0m\u001b[0;34m]\u001b[0m\u001b[0;34m)\u001b[0m\u001b[0;34m\u001b[0m\u001b[0m\n\u001b[1;32m      2\u001b[0m \u001b[0;34m\u001b[0m\u001b[0m\n\u001b[0;32m----> 3\u001b[0;31m \u001b[0mschaffers_popsize_results\u001b[0m\u001b[0;34m[\u001b[0m\u001b[0mschaffers_popsize_results\u001b[0m\u001b[0;34m]\u001b[0m\u001b[0;34m[\u001b[0m\u001b[0;36m0\u001b[0m\u001b[0;34m]\u001b[0m\u001b[0;34m\u001b[0m\u001b[0m\n\u001b[0m",
      "\u001b[0;32m~/anaconda3/lib/python3.6/site-packages/pandas/core/frame.py\u001b[0m in \u001b[0;36m__getitem__\u001b[0;34m(self, key)\u001b[0m\n\u001b[1;32m   2682\u001b[0m             \u001b[0;32mreturn\u001b[0m \u001b[0mself\u001b[0m\u001b[0;34m.\u001b[0m\u001b[0m_getitem_array\u001b[0m\u001b[0;34m(\u001b[0m\u001b[0mkey\u001b[0m\u001b[0;34m)\u001b[0m\u001b[0;34m\u001b[0m\u001b[0m\n\u001b[1;32m   2683\u001b[0m         \u001b[0;32melif\u001b[0m \u001b[0misinstance\u001b[0m\u001b[0;34m(\u001b[0m\u001b[0mkey\u001b[0m\u001b[0;34m,\u001b[0m \u001b[0mDataFrame\u001b[0m\u001b[0;34m)\u001b[0m\u001b[0;34m:\u001b[0m\u001b[0;34m\u001b[0m\u001b[0m\n\u001b[0;32m-> 2684\u001b[0;31m             \u001b[0;32mreturn\u001b[0m \u001b[0mself\u001b[0m\u001b[0;34m.\u001b[0m\u001b[0m_getitem_frame\u001b[0m\u001b[0;34m(\u001b[0m\u001b[0mkey\u001b[0m\u001b[0;34m)\u001b[0m\u001b[0;34m\u001b[0m\u001b[0m\n\u001b[0m\u001b[1;32m   2685\u001b[0m         \u001b[0;32melif\u001b[0m \u001b[0mis_mi_columns\u001b[0m\u001b[0;34m:\u001b[0m\u001b[0;34m\u001b[0m\u001b[0m\n\u001b[1;32m   2686\u001b[0m             \u001b[0;32mreturn\u001b[0m \u001b[0mself\u001b[0m\u001b[0;34m.\u001b[0m\u001b[0m_getitem_multilevel\u001b[0m\u001b[0;34m(\u001b[0m\u001b[0mkey\u001b[0m\u001b[0;34m)\u001b[0m\u001b[0;34m\u001b[0m\u001b[0m\n",
      "\u001b[0;32m~/anaconda3/lib/python3.6/site-packages/pandas/core/frame.py\u001b[0m in \u001b[0;36m_getitem_frame\u001b[0;34m(self, key)\u001b[0m\n\u001b[1;32m   2765\u001b[0m     \u001b[0;32mdef\u001b[0m \u001b[0m_getitem_frame\u001b[0m\u001b[0;34m(\u001b[0m\u001b[0mself\u001b[0m\u001b[0;34m,\u001b[0m \u001b[0mkey\u001b[0m\u001b[0;34m)\u001b[0m\u001b[0;34m:\u001b[0m\u001b[0;34m\u001b[0m\u001b[0m\n\u001b[1;32m   2766\u001b[0m         \u001b[0;32mif\u001b[0m \u001b[0mkey\u001b[0m\u001b[0;34m.\u001b[0m\u001b[0mvalues\u001b[0m\u001b[0;34m.\u001b[0m\u001b[0msize\u001b[0m \u001b[0;32mand\u001b[0m \u001b[0;32mnot\u001b[0m \u001b[0mis_bool_dtype\u001b[0m\u001b[0;34m(\u001b[0m\u001b[0mkey\u001b[0m\u001b[0;34m.\u001b[0m\u001b[0mvalues\u001b[0m\u001b[0;34m)\u001b[0m\u001b[0;34m:\u001b[0m\u001b[0;34m\u001b[0m\u001b[0m\n\u001b[0;32m-> 2767\u001b[0;31m             \u001b[0;32mraise\u001b[0m \u001b[0mValueError\u001b[0m\u001b[0;34m(\u001b[0m\u001b[0;34m'Must pass DataFrame with boolean values only'\u001b[0m\u001b[0;34m)\u001b[0m\u001b[0;34m\u001b[0m\u001b[0m\n\u001b[0m\u001b[1;32m   2768\u001b[0m         \u001b[0;32mreturn\u001b[0m \u001b[0mself\u001b[0m\u001b[0;34m.\u001b[0m\u001b[0mwhere\u001b[0m\u001b[0;34m(\u001b[0m\u001b[0mkey\u001b[0m\u001b[0;34m)\u001b[0m\u001b[0;34m\u001b[0m\u001b[0m\n\u001b[1;32m   2769\u001b[0m \u001b[0;34m\u001b[0m\u001b[0m\n",
      "\u001b[0;31mValueError\u001b[0m: Must pass DataFrame with boolean values only"
     ]
    }
   ],
   "source": [
    "schaffers_popsize_results = mainSimulator.readDataForSetup(setups[0])\n",
    "\n",
    "schaffers_popsize_results[schaffers_popsize_results][0]"
   ]
  },
  {
   "cell_type": "code",
   "execution_count": 42,
   "metadata": {
    "ExecuteTime": {
     "end_time": "2018-10-20T11:56:08.105543Z",
     "start_time": "2018-10-20T11:54:44.177850Z"
    }
   },
   "outputs": [
    {
     "data": {
      "text/plain": [
       "<seaborn.axisgrid.FacetGrid at 0x110bdc278>"
      ]
     },
     "execution_count": 42,
     "metadata": {},
     "output_type": "execute_result"
    }
   ],
   "source": [
    "sns.relplot( hue=\"region\", kind=\"line\", data=schaffers_popsize_results)"
   ]
  },
  {
   "cell_type": "code",
   "execution_count": 43,
   "metadata": {
    "ExecuteTime": {
     "end_time": "2018-10-20T11:56:29.200148Z",
     "start_time": "2018-10-20T11:56:27.950795Z"
    }
   },
   "outputs": [
    {
     "data": {
      "image/png": "[encoded data removed]",
      "text/plain": [
       "<matplotlib.figure.Figure at 0x110c0f5c0>"
      ]
     },
     "metadata": {},
     "output_type": "display_data"
    },
    {
     "data": {
      "image/png": "[encoded data removed]",
      "text/plain": [
       "<matplotlib.figure.Figure at 0x10f8d6588>"
      ]
     },
     "metadata": {},
     "output_type": "display_data"
    },
    {
     "data": {
      "image/png": "[encoded data removed]",
      "text/plain": [
       "<matplotlib.figure.Figure at 0x110acd2e8>"
      ]
     },
     "metadata": {},
     "output_type": "display_data"
    }
   ],
   "source": [
    "plt.show()"
   ]
  }
 ],
 "metadata": {
  "kernelspec": {
   "display_name": "Python 3",
   "language": "python",
   "name": "python3"
  },
  "language_info": {
   "codemirror_mode": {
    "name": "ipython",
    "version": 3
   },
   "file_extension": ".py",
   "mimetype": "text/x-python",
   "name": "python",
   "nbconvert_exporter": "python",
   "pygments_lexer": "ipython3",
   "version": "3.6.3"
  },
  "varInspector": {
   "cols": {
    "lenName": 16,
    "lenType": 16,
    "lenVar": 40
   },
   "kernels_config": {
    "python": {
     "delete_cmd_postfix": "",
     "delete_cmd_prefix": "del ",
     "library": "var_list.py",
     "varRefreshCmd": "print(var_dic_list())"
    },
    "r": {
     "delete_cmd_postfix": ") ",
     "delete_cmd_prefix": "rm(",
     "library": "var_list.r",
     "varRefreshCmd": "cat(var_dic_list()) "
    }
   },
   "types_to_exclude": [
    "module",
    "function",
    "builtin_function_or_method",
    "instance",
    "_Feature"
   ],
   "window_display": false
  }
 },
 "nbformat": 4,
 "nbformat_minor": 2
}
